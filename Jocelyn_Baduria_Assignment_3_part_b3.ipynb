{
  "nbformat": 4,
  "nbformat_minor": 0,
  "metadata": {
    "colab": {
      "name": "Jocelyn_Baduria_Assignment 3_part_b3.ipynb",
      "provenance": [],
      "collapsed_sections": [],
      "authorship_tag": "ABX9TyPoVKwqXsE8A/bfmW7mUnyS",
      "include_colab_link": true
    },
    "kernelspec": {
      "name": "python3",
      "display_name": "Python 3"
    },
    "language_info": {
      "name": "python"
    }
  },
  "cells": [
    {
      "cell_type": "markdown",
      "metadata": {
        "id": "view-in-github",
        "colab_type": "text"
      },
      "source": [
        "<a href=\"https://colab.research.google.com/github/jocelynbaduria/Assignment-3-_part_a_b_c.ipynb/blob/main/Jocelyn_Baduria_Assignment_3_part_b3.ipynb\" target=\"_parent\"><img src=\"https://colab.research.google.com/assets/colab-badge.svg\" alt=\"Open In Colab\"/></a>"
      ]
    },
    {
      "cell_type": "markdown",
      "metadata": {
        "id": "RyrBJ2DE21Yv"
      },
      "source": [
        "# B3. Pytorch\n",
        "With auto differentiation high level primitive"
      ]
    },
    {
      "cell_type": "code",
      "metadata": {
        "colab": {
          "base_uri": "https://localhost:8080/"
        },
        "id": "jANoXmH12Nx_",
        "outputId": "99ce089d-b6b3-4298-8c5e-4e2bd98c1abf"
      },
      "source": [
        "!pip list | grep tensor"
      ],
      "execution_count": 276,
      "outputs": [
        {
          "output_type": "stream",
          "text": [
            "tensorboard                   2.4.1         \n",
            "tensorboard-plugin-wit        1.8.0         \n",
            "tensorflow                    2.4.1         \n",
            "tensorflow-datasets           4.0.1         \n",
            "tensorflow-estimator          2.4.0         \n",
            "tensorflow-gcs-config         2.4.0         \n",
            "tensorflow-hub                0.11.0        \n",
            "tensorflow-metadata           0.28.0        \n",
            "tensorflow-probability        0.12.1        \n"
          ],
          "name": "stdout"
        }
      ]
    },
    {
      "cell_type": "code",
      "metadata": {
        "colab": {
          "base_uri": "https://localhost:8080/"
        },
        "id": "brp8XawN3X1q",
        "outputId": "89299f6f-513d-462b-fc93-bf3cf0700dfa"
      },
      "source": [
        "!pip list | grep torch"
      ],
      "execution_count": 277,
      "outputs": [
        {
          "output_type": "stream",
          "text": [
            "torch                         1.8.0+cu101   \n",
            "torchsummary                  1.5.1         \n",
            "torchtext                     0.9.0         \n",
            "torchvision                   0.9.0+cu101   \n"
          ],
          "name": "stdout"
        }
      ]
    },
    {
      "cell_type": "code",
      "metadata": {
        "colab": {
          "base_uri": "https://localhost:8080/"
        },
        "id": "kqbuwzzfJrsF",
        "outputId": "ca39352f-a59a-4e3e-9b04-a1d0e8b53069"
      },
      "source": [
        "!pip3 install torch torchvision"
      ],
      "execution_count": 278,
      "outputs": [
        {
          "output_type": "stream",
          "text": [
            "Requirement already satisfied: torch in /usr/local/lib/python3.7/dist-packages (1.8.0+cu101)\n",
            "Requirement already satisfied: torchvision in /usr/local/lib/python3.7/dist-packages (0.9.0+cu101)\n",
            "Requirement already satisfied: numpy in /usr/local/lib/python3.7/dist-packages (from torch) (1.19.5)\n",
            "Requirement already satisfied: typing-extensions in /usr/local/lib/python3.7/dist-packages (from torch) (3.7.4.3)\n",
            "Requirement already satisfied: pillow>=4.1.1 in /usr/local/lib/python3.7/dist-packages (from torchvision) (7.0.0)\n"
          ],
          "name": "stdout"
        }
      ]
    },
    {
      "cell_type": "code",
      "metadata": {
        "id": "5N-9UtCXKPkP"
      },
      "source": [
        "import torch\n",
        "import torch.nn as nn\n",
        "import numpy as np\n",
        "import torch.optim as optim\n",
        "\n",
        "torch.set_printoptions(edgeitems=2, linewidth=75)"
      ],
      "execution_count": 279,
      "outputs": []
    },
    {
      "cell_type": "markdown",
      "metadata": {
        "id": "5-kse_nz3I83"
      },
      "source": [
        "1. Generate data: 3 dimensions input and 2 dimensions output"
      ]
    },
    {
      "cell_type": "code",
      "metadata": {
        "colab": {
          "base_uri": "https://localhost:8080/"
        },
        "id": "DjmrBMJRVCq2",
        "outputId": "dbdfcd40-c0f5-4380-f096-a8d21a7e8102"
      },
      "source": [
        "# Make non-linear data, using 3 dimensional input data and 2 output neurons\n",
        "n_samples = 200\n",
        "d1 = 3\n",
        "d2 = 3\n",
        "x = torch.FloatTensor(n_samples, d1).uniform_(-1,1)\n",
        "y = torch.FloatTensor(n_samples, d2).uniform_(-1,1)\n",
        "\n",
        "x_un = 0.1 * x\n",
        "weights_true = torch.FloatTensor([[5, 1, 4],[2, 1, 2]]).T\n",
        "bias_true = torch.tensor([0.5, 0.25])\n",
        "\n",
        "# # y = w_0 * x_0 + w_1 * x_1 + w_2 * x_2 + b\n",
        "y_true = torch.mm(x ** 2, weights_true) + torch.mm(x, weights_true) + bias_true\n",
        "print(f'x: {x.shape}, weights: {weights_true.shape}, bias: {bias_true.shape}, y: {y_true.shape}')\n",
        "# #x: (200, 3), weights: (3, 2), bias: (2,), y: (200, 2)"
      ],
      "execution_count": 280,
      "outputs": [
        {
          "output_type": "stream",
          "text": [
            "x: torch.Size([200, 3]), weights: torch.Size([3, 2]), bias: torch.Size([2]), y: torch.Size([200, 2])\n"
          ],
          "name": "stdout"
        }
      ]
    },
    {
      "cell_type": "markdown",
      "metadata": {
        "id": "N_9yhdvpYnLd"
      },
      "source": [
        "2. Add Linear function using 10samples training input and two samples for training output"
      ]
    },
    {
      "cell_type": "code",
      "metadata": {
        "colab": {
          "base_uri": "https://localhost:8080/"
        },
        "id": "lP8aqxOqaarE",
        "outputId": "56d15264-bb33-4925-f11f-9991976b55a5"
      },
      "source": [
        "y = torch.tensor(y).unsqueeze(1) # <1>\n",
        "x = torch.tensor(x).unsqueeze(1) # <1>\n",
        "\n",
        "n_samples = x.shape[0] \n",
        "n_val = int(0.2 * n_samples)\n",
        "\n",
        "shuffled_indices = torch.randperm(n_samples)\n",
        "\n",
        "train_indices = shuffled_indices[:-n_val]\n",
        "val_indices = shuffled_indices[-n_val:]\n",
        "\n",
        "train_indices, val_indices"
      ],
      "execution_count": 281,
      "outputs": [
        {
          "output_type": "stream",
          "text": [
            "/usr/local/lib/python3.7/dist-packages/ipykernel_launcher.py:1: UserWarning: To copy construct from a tensor, it is recommended to use sourceTensor.clone().detach() or sourceTensor.clone().detach().requires_grad_(True), rather than torch.tensor(sourceTensor).\n",
            "  \"\"\"Entry point for launching an IPython kernel.\n",
            "/usr/local/lib/python3.7/dist-packages/ipykernel_launcher.py:2: UserWarning: To copy construct from a tensor, it is recommended to use sourceTensor.clone().detach() or sourceTensor.clone().detach().requires_grad_(True), rather than torch.tensor(sourceTensor).\n",
            "  \n"
          ],
          "name": "stderr"
        },
        {
          "output_type": "execute_result",
          "data": {
            "text/plain": [
              "(tensor([124, 113, 198,  64,   5,  97,  95, 106, 151, 144,  78,  79,  17,\n",
              "         152, 103, 146,  20, 121,  88,  87, 186, 187, 104, 118, 120,  77,\n",
              "         178, 112, 181, 142, 194,  42, 155,  31,  69, 110,  55,  89, 140,\n",
              "          65,  68, 159, 175, 105, 167, 108, 134, 161,  92, 172, 117, 195,\n",
              "         193,   3,  38,  82,   6, 114,  25, 127, 149, 145,  37,  46, 125,\n",
              "         100, 133, 126,  41,  99,  35, 176,  59, 180, 136, 101,   8,  13,\n",
              "         158,  43,  74, 150,  86, 156,  34,   9,  44,  61, 191,  60, 154,\n",
              "          70, 169,   1, 170,  51,   2, 188,  18,  33,  26,  75,   4, 184,\n",
              "         141, 131, 116, 153,  93,  53, 132, 173, 166,  54,  90,  14,  47,\n",
              "         143,  22,  15,  23,  16,  29,  81, 182, 168,  94,  50,  12,  67,\n",
              "         162, 128,  40,  66,  28,  58,   7,  36, 171,  19,  57, 196, 185,\n",
              "         197, 148, 135, 177,  63,  10, 199,  83, 190,  30, 157,  39,  91,\n",
              "         123, 163, 107,  45]),\n",
              " tensor([139, 192, 130,  73,  72,  71,  56, 179, 189, 102, 147, 160, 119,\n",
              "          85,  52, 138,  24,  21, 137, 122, 174,  62, 109, 115,  11, 111,\n",
              "         164,  27,  76, 183, 129,  84,  96,  32,  48,  98, 165,  49,   0,\n",
              "          80]))"
            ]
          },
          "metadata": {
            "tags": []
          },
          "execution_count": 281
        }
      ]
    },
    {
      "cell_type": "code",
      "metadata": {
        "id": "jgpYMY_DbWgw"
      },
      "source": [
        "x_train = x[train_indices] # x\n",
        "y_train = y[train_indices] # y\n",
        "\n",
        "x_val = x[val_indices] # x\n",
        "y_val = y[val_indices] # y\n",
        "\n",
        "x_train = 0.1 * x_train \n",
        "x_val = 0.1 * x_val"
      ],
      "execution_count": 282,
      "outputs": []
    },
    {
      "cell_type": "code",
      "metadata": {
        "colab": {
          "base_uri": "https://localhost:8080/"
        },
        "id": "s8e79WOVYsEM",
        "outputId": "9356a30e-bae6-4d23-decc-1e698715aef0"
      },
      "source": [
        "import torch.nn as nn\n",
        "\n",
        "linear_model = nn.Linear(3, 1, 2) # <1>\n",
        "linear_model(x_val)"
      ],
      "execution_count": 283,
      "outputs": [
        {
          "output_type": "execute_result",
          "data": {
            "text/plain": [
              "tensor([[[-0.5230]],\n",
              "\n",
              "        [[-0.4914]],\n",
              "\n",
              "        [[-0.5312]],\n",
              "\n",
              "        [[-0.5585]],\n",
              "\n",
              "        [[-0.5552]],\n",
              "\n",
              "        [[-0.5380]],\n",
              "\n",
              "        [[-0.4856]],\n",
              "\n",
              "        [[-0.5033]],\n",
              "\n",
              "        [[-0.5190]],\n",
              "\n",
              "        [[-0.5249]],\n",
              "\n",
              "        [[-0.5735]],\n",
              "\n",
              "        [[-0.5027]],\n",
              "\n",
              "        [[-0.5394]],\n",
              "\n",
              "        [[-0.5539]],\n",
              "\n",
              "        [[-0.5365]],\n",
              "\n",
              "        [[-0.5188]],\n",
              "\n",
              "        [[-0.5531]],\n",
              "\n",
              "        [[-0.5342]],\n",
              "\n",
              "        [[-0.5091]],\n",
              "\n",
              "        [[-0.5751]],\n",
              "\n",
              "        [[-0.5334]],\n",
              "\n",
              "        [[-0.5223]],\n",
              "\n",
              "        [[-0.5328]],\n",
              "\n",
              "        [[-0.5335]],\n",
              "\n",
              "        [[-0.4979]],\n",
              "\n",
              "        [[-0.5393]],\n",
              "\n",
              "        [[-0.5820]],\n",
              "\n",
              "        [[-0.5774]],\n",
              "\n",
              "        [[-0.5350]],\n",
              "\n",
              "        [[-0.5471]],\n",
              "\n",
              "        [[-0.5381]],\n",
              "\n",
              "        [[-0.5158]],\n",
              "\n",
              "        [[-0.4919]],\n",
              "\n",
              "        [[-0.5842]],\n",
              "\n",
              "        [[-0.5474]],\n",
              "\n",
              "        [[-0.5476]],\n",
              "\n",
              "        [[-0.5424]],\n",
              "\n",
              "        [[-0.5812]],\n",
              "\n",
              "        [[-0.5718]],\n",
              "\n",
              "        [[-0.5684]]], grad_fn=<AddBackward0>)"
            ]
          },
          "metadata": {
            "tags": []
          },
          "execution_count": 283
        }
      ]
    },
    {
      "cell_type": "code",
      "metadata": {
        "colab": {
          "base_uri": "https://localhost:8080/"
        },
        "id": "9S7ixr41dcwZ",
        "outputId": "cf304472-56c5-4e6a-ef6e-cae12559af15"
      },
      "source": [
        "linear_model.weight"
      ],
      "execution_count": 284,
      "outputs": [
        {
          "output_type": "execute_result",
          "data": {
            "text/plain": [
              "Parameter containing:\n",
              "tensor([[-0.0677,  0.3199, -0.2891]], requires_grad=True)"
            ]
          },
          "metadata": {
            "tags": []
          },
          "execution_count": 284
        }
      ]
    },
    {
      "cell_type": "code",
      "metadata": {
        "colab": {
          "base_uri": "https://localhost:8080/"
        },
        "id": "t1HofV74dhM7",
        "outputId": "29b4fbd6-c861-4fb5-c087-e1c1503c32bd"
      },
      "source": [
        "linear_model.bias"
      ],
      "execution_count": 285,
      "outputs": [
        {
          "output_type": "execute_result",
          "data": {
            "text/plain": [
              "Parameter containing:\n",
              "tensor([-0.5304], requires_grad=True)"
            ]
          },
          "metadata": {
            "tags": []
          },
          "execution_count": 285
        }
      ]
    },
    {
      "cell_type": "code",
      "metadata": {
        "colab": {
          "base_uri": "https://localhost:8080/"
        },
        "id": "AJ1cA_Urdoz0",
        "outputId": "fd26513e-4ff6-4b11-9ad0-27321a352656"
      },
      "source": [
        "x = torch.ones(3)\n",
        "linear_model(x)"
      ],
      "execution_count": 286,
      "outputs": [
        {
          "output_type": "execute_result",
          "data": {
            "text/plain": [
              "tensor([-0.5672], grad_fn=<AddBackward0>)"
            ]
          },
          "metadata": {
            "tags": []
          },
          "execution_count": 286
        }
      ]
    },
    {
      "cell_type": "code",
      "metadata": {
        "colab": {
          "base_uri": "https://localhost:8080/"
        },
        "id": "ohmoWeNNd3x0",
        "outputId": "752b10ab-5616-416c-a25d-9dd749874a96"
      },
      "source": [
        "x = torch.ones(10, 3)\n",
        "linear_model(x)"
      ],
      "execution_count": 287,
      "outputs": [
        {
          "output_type": "execute_result",
          "data": {
            "text/plain": [
              "tensor([[-0.5672],\n",
              "        [-0.5672],\n",
              "        [-0.5672],\n",
              "        [-0.5672],\n",
              "        [-0.5672],\n",
              "        [-0.5672],\n",
              "        [-0.5672],\n",
              "        [-0.5672],\n",
              "        [-0.5672],\n",
              "        [-0.5672]], grad_fn=<AddmmBackward>)"
            ]
          },
          "metadata": {
            "tags": []
          },
          "execution_count": 287
        }
      ]
    },
    {
      "cell_type": "code",
      "metadata": {
        "id": "iwFFojfjd_VS"
      },
      "source": [
        "linear_model = nn.Linear(3, 1, 2) # <1>\n",
        "optimizer = optim.SGD(\n",
        "    linear_model.parameters(), # <2>\n",
        "    lr=1e-2)"
      ],
      "execution_count": 288,
      "outputs": []
    },
    {
      "cell_type": "code",
      "metadata": {
        "colab": {
          "base_uri": "https://localhost:8080/"
        },
        "id": "Ze72fa4VeHtt",
        "outputId": "2e12c3c2-d2d5-4f37-9d6e-1719278cf4b3"
      },
      "source": [
        "linear_model.parameters()"
      ],
      "execution_count": 289,
      "outputs": [
        {
          "output_type": "execute_result",
          "data": {
            "text/plain": [
              "<generator object Module.parameters at 0x7fe1220b0250>"
            ]
          },
          "metadata": {
            "tags": []
          },
          "execution_count": 289
        }
      ]
    },
    {
      "cell_type": "code",
      "metadata": {
        "colab": {
          "base_uri": "https://localhost:8080/"
        },
        "id": "bzdNZE-OeNPv",
        "outputId": "f59e723c-5845-45ee-83e1-ee9d5ab94131"
      },
      "source": [
        "list(linear_model.parameters())"
      ],
      "execution_count": 290,
      "outputs": [
        {
          "output_type": "execute_result",
          "data": {
            "text/plain": [
              "[Parameter containing:\n",
              " tensor([[-0.0486,  0.1934, -0.0627]], requires_grad=True),\n",
              " Parameter containing:\n",
              " tensor([0.1820], requires_grad=True)]"
            ]
          },
          "metadata": {
            "tags": []
          },
          "execution_count": 290
        }
      ]
    },
    {
      "cell_type": "markdown",
      "metadata": {
        "id": "w_CPXR_OCCoK"
      },
      "source": [
        "3. Training Loop Function"
      ]
    },
    {
      "cell_type": "code",
      "metadata": {
        "id": "Le-3X2h5ePRu"
      },
      "source": [
        "def training_loop(n_epochs, optimizer, model, loss_fn, x_train, x_val,\n",
        "                  y_train, y_val):\n",
        "    for epoch in range(1, n_epochs + 1):\n",
        "        t_p_train = model(x_train) # <1>\n",
        "        loss_train = loss_fn(t_p_train, y_train)\n",
        "\n",
        "        t_p_val = model(x_val) # <1>\n",
        "        loss_val = loss_fn(t_p_val, x_val)\n",
        "        \n",
        "        optimizer.zero_grad()\n",
        "        loss_train.backward() # <2>\n",
        "        optimizer.step()\n",
        "\n",
        "        if epoch == 1 or epoch % 1000 == 0:\n",
        "            print(f\"Epoch {epoch}, Training loss {loss_train.item():.4f},\"\n",
        "                  f\" Validation loss {loss_val.item():.4f}\")"
      ],
      "execution_count": 291,
      "outputs": []
    },
    {
      "cell_type": "markdown",
      "metadata": {
        "id": "sNDVuXBjefn0"
      },
      "source": [
        "4. Compute Cost Function"
      ]
    },
    {
      "cell_type": "code",
      "metadata": {
        "colab": {
          "base_uri": "https://localhost:8080/"
        },
        "id": "VOhtbQG8egJ9",
        "outputId": "8633df2f-c4ed-4c97-dc50-189ea822e916"
      },
      "source": [
        "def loss_fn(t_p, y):\n",
        "    squared_diffs = (t_p - y)**2\n",
        "    return squared_diffs.mean()\n",
        "\n",
        "linear_model = nn.Linear(3, 1, 2) # <1>\n",
        "optimizer = optim.SGD(linear_model.parameters(), lr=1e-2)\n",
        "\n",
        "training_loop(\n",
        "    n_epochs = 3000, \n",
        "    optimizer = optimizer,\n",
        "    model = linear_model,\n",
        "    loss_fn = loss_fn,\n",
        "    x_train = x_train,\n",
        "    x_val = x_val, \n",
        "    y_train = y_train,\n",
        "    y_val = y_val)\n",
        "\n",
        "print()\n",
        "print(linear_model.weight)\n",
        "print(linear_model.bias)"
      ],
      "execution_count": 292,
      "outputs": [
        {
          "output_type": "stream",
          "text": [
            "Epoch 1, Training loss 0.4594, Validation loss 0.1039\n",
            "Epoch 1000, Training loss 0.3443, Validation loss 0.0055\n",
            "Epoch 2000, Training loss 0.3439, Validation loss 0.0055\n",
            "Epoch 3000, Training loss 0.3436, Validation loss 0.0055\n",
            "\n",
            "Parameter containing:\n",
            "tensor([[ 0.3772, -0.1580, -0.3925]], requires_grad=True)\n",
            "Parameter containing:\n",
            "tensor([-0.0134], requires_grad=True)\n"
          ],
          "name": "stdout"
        }
      ]
    },
    {
      "cell_type": "code",
      "metadata": {
        "colab": {
          "base_uri": "https://localhost:8080/"
        },
        "id": "0gXRzDktfecN",
        "outputId": "1ec49e79-1ba4-49ab-b5d6-cf5706f2cc86"
      },
      "source": [
        "linear_model = nn.Linear(3, 1, 2)\n",
        "optimizer = optim.SGD(linear_model.parameters(), lr=1e-3)\n",
        "\n",
        "training_loop(\n",
        "    n_epochs = 3000, \n",
        "    optimizer = optimizer,\n",
        "    model = linear_model,\n",
        "    loss_fn = nn.MSELoss(), # <1>\n",
        "    x_train = x_train,\n",
        "    x_val = x_val, \n",
        "    y_train = y_train,\n",
        "    y_val = y_val)\n",
        "\n",
        "print()\n",
        "print(linear_model.weight)\n",
        "print(linear_model.bias)"
      ],
      "execution_count": 293,
      "outputs": [
        {
          "output_type": "stream",
          "text": [
            "Epoch 1, Training loss 0.3603, Validation loss 0.0261\n"
          ],
          "name": "stdout"
        },
        {
          "output_type": "stream",
          "text": [
            "/usr/local/lib/python3.7/dist-packages/torch/nn/modules/loss.py:528: UserWarning: Using a target size (torch.Size([160, 1, 3])) that is different to the input size (torch.Size([160, 1, 1])). This will likely lead to incorrect results due to broadcasting. Please ensure they have the same size.\n",
            "  return F.mse_loss(input, target, reduction=self.reduction)\n",
            "/usr/local/lib/python3.7/dist-packages/torch/nn/modules/loss.py:528: UserWarning: Using a target size (torch.Size([40, 1, 3])) that is different to the input size (torch.Size([40, 1, 1])). This will likely lead to incorrect results due to broadcasting. Please ensure they have the same size.\n",
            "  return F.mse_loss(input, target, reduction=self.reduction)\n"
          ],
          "name": "stderr"
        },
        {
          "output_type": "stream",
          "text": [
            "Epoch 1000, Training loss 0.3454, Validation loss 0.0060\n",
            "Epoch 2000, Training loss 0.3451, Validation loss 0.0051\n",
            "Epoch 3000, Training loss 0.3451, Validation loss 0.0049\n",
            "\n",
            "Parameter containing:\n",
            "tensor([[ 0.4708,  0.1336, -0.4401]], requires_grad=True)\n",
            "Parameter containing:\n",
            "tensor([-0.0140], requires_grad=True)\n"
          ],
          "name": "stdout"
        }
      ]
    },
    {
      "cell_type": "markdown",
      "metadata": {
        "id": "in8AWeBOhaTB"
      },
      "source": [
        "5. Sequential Function using ReLU activation function in Hidden Layer"
      ]
    },
    {
      "cell_type": "code",
      "metadata": {
        "colab": {
          "base_uri": "https://localhost:8080/"
        },
        "id": "rXQAhzWmhUzL",
        "outputId": "85f3f238-f57c-4634-f1d3-41ff35cfef3d"
      },
      "source": [
        "seq_model = nn.Sequential(\n",
        "            nn.Linear(1, 13), # <1>\n",
        "            nn.ReLU(),\n",
        "            nn.Linear(13, 1)) # <2>\n",
        "            # nn.Linear(1, 3, 2)) # <2>\n",
        "seq_model"
      ],
      "execution_count": 294,
      "outputs": [
        {
          "output_type": "execute_result",
          "data": {
            "text/plain": [
              "Sequential(\n",
              "  (0): Linear(in_features=1, out_features=13, bias=True)\n",
              "  (1): ReLU()\n",
              "  (2): Linear(in_features=13, out_features=1, bias=True)\n",
              ")"
            ]
          },
          "metadata": {
            "tags": []
          },
          "execution_count": 294
        }
      ]
    },
    {
      "cell_type": "code",
      "metadata": {
        "colab": {
          "base_uri": "https://localhost:8080/"
        },
        "id": "xnI0xyjxhmbK",
        "outputId": "b7bbaeae-0f45-499d-f1ec-f66ecd183cb3"
      },
      "source": [
        "[param.shape for param in seq_model.parameters()]"
      ],
      "execution_count": 295,
      "outputs": [
        {
          "output_type": "execute_result",
          "data": {
            "text/plain": [
              "[torch.Size([13, 1]), torch.Size([13]), torch.Size([1, 13]), torch.Size([1])]"
            ]
          },
          "metadata": {
            "tags": []
          },
          "execution_count": 295
        }
      ]
    },
    {
      "cell_type": "code",
      "metadata": {
        "colab": {
          "base_uri": "https://localhost:8080/"
        },
        "id": "kJ--ZWzoht4c",
        "outputId": "4806d6d8-fea4-4e3e-ecf7-41b2a1c5a501"
      },
      "source": [
        "for name, param in seq_model.named_parameters():\n",
        "    print(name, param.shape)"
      ],
      "execution_count": 296,
      "outputs": [
        {
          "output_type": "stream",
          "text": [
            "0.weight torch.Size([13, 1])\n",
            "0.bias torch.Size([13])\n",
            "2.weight torch.Size([1, 13])\n",
            "2.bias torch.Size([1])\n"
          ],
          "name": "stdout"
        }
      ]
    },
    {
      "cell_type": "code",
      "metadata": {
        "colab": {
          "base_uri": "https://localhost:8080/"
        },
        "id": "9jo5qzvehxqk",
        "outputId": "46daab6e-a6cd-4196-ec22-1d3c4dd1368b"
      },
      "source": [
        "from collections import OrderedDict\n",
        "\n",
        "seq_model = nn.Sequential(OrderedDict([\n",
        "    ('hidden_linear', nn.Linear(1, 8)),\n",
        "    ('hidden_activation', nn.ReLU()),\n",
        "    ('output_linear', nn.Linear(8, 1))\n",
        "    # ('hidden_linear', nn.Linear(1, 3, 2)),\n",
        "    # ('hidden_activation', nn.ReLU()),\n",
        "    # ('output_linear', nn.Linear(3, 1, 2))\n",
        "]))\n",
        "\n",
        "seq_model"
      ],
      "execution_count": 297,
      "outputs": [
        {
          "output_type": "execute_result",
          "data": {
            "text/plain": [
              "Sequential(\n",
              "  (hidden_linear): Linear(in_features=1, out_features=8, bias=True)\n",
              "  (hidden_activation): ReLU()\n",
              "  (output_linear): Linear(in_features=8, out_features=1, bias=True)\n",
              ")"
            ]
          },
          "metadata": {
            "tags": []
          },
          "execution_count": 297
        }
      ]
    },
    {
      "cell_type": "code",
      "metadata": {
        "colab": {
          "base_uri": "https://localhost:8080/"
        },
        "id": "hc482M1ziJ4G",
        "outputId": "33ca1a64-4429-475a-ed2e-9fe44b9c0f51"
      },
      "source": [
        "for name, param in seq_model.named_parameters():\n",
        "    print(name, param.shape)"
      ],
      "execution_count": 298,
      "outputs": [
        {
          "output_type": "stream",
          "text": [
            "hidden_linear.weight torch.Size([8, 1])\n",
            "hidden_linear.bias torch.Size([8])\n",
            "output_linear.weight torch.Size([1, 8])\n",
            "output_linear.bias torch.Size([1])\n"
          ],
          "name": "stdout"
        }
      ]
    },
    {
      "cell_type": "code",
      "metadata": {
        "colab": {
          "base_uri": "https://localhost:8080/"
        },
        "id": "apUGMnhAiOLK",
        "outputId": "41c95fc3-4bb6-449f-9c71-890467767396"
      },
      "source": [
        "seq_model.output_linear.bias"
      ],
      "execution_count": 299,
      "outputs": [
        {
          "output_type": "execute_result",
          "data": {
            "text/plain": [
              "Parameter containing:\n",
              "tensor([-0.1510], requires_grad=True)"
            ]
          },
          "metadata": {
            "tags": []
          },
          "execution_count": 299
        }
      ]
    },
    {
      "cell_type": "markdown",
      "metadata": {
        "id": "UVCt5RBfiXMs"
      },
      "source": [
        "6. Fit the model and compute the cost function using Pytorch"
      ]
    },
    {
      "cell_type": "code",
      "metadata": {
        "colab": {
          "base_uri": "https://localhost:8080/"
        },
        "id": "I2_ihUlsc22d",
        "outputId": "0b15ff7f-39d1-4c36-96c9-58692d0a5d9b"
      },
      "source": [
        "# Now we run the training loop\n",
        "from typing import Callable\n",
        "\n",
        "def torch_fit(x: np.ndarray, y: np.ndarray, model: Callable, loss: Callable, lr: float, num_epochs: int):\n",
        "  optimizer = torch.optim.SGD(model.parameters(), lr=lr)\n",
        "  for epoch in range(num_epochs):\n",
        "    optimizer.zero_grad()\n",
        "    y_pred_tensor = model(x)\n",
        "    loss_value = loss_fn(y_pred_tensor, y)\n",
        "    print(loss_value)\n",
        "    loss_value.backward()\n",
        "    optimizer.step()\n",
        "\n",
        "torch_fit(x, y, model=linear_model, loss=loss_fn, lr=0.1, num_epochs=40)"
      ],
      "execution_count": 300,
      "outputs": [
        {
          "output_type": "stream",
          "text": [
            "tensor(0.3671, grad_fn=<MeanBackward0>)\n",
            "tensor(0.3464, grad_fn=<MeanBackward0>)\n",
            "tensor(0.3455, grad_fn=<MeanBackward0>)\n",
            "tensor(0.3455, grad_fn=<MeanBackward0>)\n",
            "tensor(0.3455, grad_fn=<MeanBackward0>)\n",
            "tensor(0.3455, grad_fn=<MeanBackward0>)\n",
            "tensor(0.3455, grad_fn=<MeanBackward0>)\n",
            "tensor(0.3455, grad_fn=<MeanBackward0>)\n",
            "tensor(0.3455, grad_fn=<MeanBackward0>)\n",
            "tensor(0.3455, grad_fn=<MeanBackward0>)\n",
            "tensor(0.3455, grad_fn=<MeanBackward0>)\n",
            "tensor(0.3455, grad_fn=<MeanBackward0>)\n",
            "tensor(0.3455, grad_fn=<MeanBackward0>)\n",
            "tensor(0.3455, grad_fn=<MeanBackward0>)\n",
            "tensor(0.3455, grad_fn=<MeanBackward0>)\n",
            "tensor(0.3455, grad_fn=<MeanBackward0>)\n",
            "tensor(0.3455, grad_fn=<MeanBackward0>)\n",
            "tensor(0.3455, grad_fn=<MeanBackward0>)\n",
            "tensor(0.3455, grad_fn=<MeanBackward0>)\n",
            "tensor(0.3455, grad_fn=<MeanBackward0>)\n",
            "tensor(0.3455, grad_fn=<MeanBackward0>)\n",
            "tensor(0.3455, grad_fn=<MeanBackward0>)\n",
            "tensor(0.3455, grad_fn=<MeanBackward0>)\n",
            "tensor(0.3455, grad_fn=<MeanBackward0>)\n",
            "tensor(0.3455, grad_fn=<MeanBackward0>)\n",
            "tensor(0.3455, grad_fn=<MeanBackward0>)\n",
            "tensor(0.3455, grad_fn=<MeanBackward0>)\n",
            "tensor(0.3455, grad_fn=<MeanBackward0>)\n",
            "tensor(0.3455, grad_fn=<MeanBackward0>)\n",
            "tensor(0.3455, grad_fn=<MeanBackward0>)\n",
            "tensor(0.3455, grad_fn=<MeanBackward0>)\n",
            "tensor(0.3455, grad_fn=<MeanBackward0>)\n",
            "tensor(0.3455, grad_fn=<MeanBackward0>)\n",
            "tensor(0.3455, grad_fn=<MeanBackward0>)\n",
            "tensor(0.3455, grad_fn=<MeanBackward0>)\n",
            "tensor(0.3455, grad_fn=<MeanBackward0>)\n",
            "tensor(0.3455, grad_fn=<MeanBackward0>)\n",
            "tensor(0.3455, grad_fn=<MeanBackward0>)\n",
            "tensor(0.3455, grad_fn=<MeanBackward0>)\n",
            "tensor(0.3455, grad_fn=<MeanBackward0>)\n"
          ],
          "name": "stdout"
        }
      ]
    },
    {
      "cell_type": "markdown",
      "metadata": {
        "id": "qqA7apTVC-Bt"
      },
      "source": [
        "6. Plot the output post training as well as the real data  using tsne. Result: Similar plots but different values"
      ]
    },
    {
      "cell_type": "code",
      "metadata": {
        "id": "aHINaJBWeCfB"
      },
      "source": [
        "import matplotlib.pyplot as plt\n",
        "from sklearn.manifold import TSNE\n",
        "\n",
        "view = TSNE(n_components=2, perplexity=50,learning_rate=200,random_state=123).fit_transform(x, y)\n",
        "view.shape\n",
        "\n",
        "def plot_tsne(x, y, y_pred_tensor):\n",
        "  plt.figure(figsize=(10,5))\n",
        "  plt.scatter(view[:,0], view[:,0], alpha=0.5, label='underlying function')\n",
        "  if y_true is not None:\n",
        "    plt.scatter(view[:, 1], view[:, 1], label='our function')\n",
        "  plt.xlabel('t-SNE-1')\n",
        "  plt.ylabel('t-SNE-2')\n",
        "  plt.legend()"
      ],
      "execution_count": 301,
      "outputs": []
    },
    {
      "cell_type": "code",
      "metadata": {
        "colab": {
          "base_uri": "https://localhost:8080/",
          "height": 334
        },
        "id": "f10Zjgb-eAAo",
        "outputId": "81484cd1-3c49-44e0-81bf-a2c8a9bb82ba"
      },
      "source": [
        "plot_tsne(x, y, linear_model(x))"
      ],
      "execution_count": 302,
      "outputs": [
        {
          "output_type": "display_data",
          "data": {
            "image/png": "[encoded data removed]",
            "text/plain": [
              "<Figure size 720x360 with 1 Axes>"
            ]
          },
          "metadata": {
            "tags": [],
            "needs_background": "light"
          }
        }
      ]
    }
  ]
}