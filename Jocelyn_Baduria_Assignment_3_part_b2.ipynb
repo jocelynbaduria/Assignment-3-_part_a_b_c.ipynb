{
  "nbformat": 4,
  "nbformat_minor": 0,
  "metadata": {
    "colab": {
      "name": "Jocelyn_Baduria_Assignment 3_part_b2.ipynb",
      "provenance": [],
      "collapsed_sections": [],
      "authorship_tag": "ABX9TyMtk6pt2qn+6G79DQMR0Rl+",
      "include_colab_link": true
    },
    "kernelspec": {
      "name": "python3",
      "display_name": "Python 3"
    },
    "language_info": {
      "name": "python"
    }
  },
  "cells": [
    {
      "cell_type": "markdown",
      "metadata": {
        "id": "view-in-github",
        "colab_type": "text"
      },
      "source": [
        "<a href=\"https://colab.research.google.com/github/jocelynbaduria/Assignment-3-_part_a_b_c.ipynb/blob/main/Jocelyn_Baduria_Assignment_3_part_b2.ipynb\" target=\"_parent\"><img src=\"https://colab.research.google.com/assets/colab-badge.svg\" alt=\"Open In Colab\"/></a>"
      ]
    },
    {
      "cell_type": "markdown",
      "metadata": {
        "id": "RyrBJ2DE21Yv"
      },
      "source": [
        "# B2. Pytorch\n",
        "With auto differentiation primitive"
      ]
    },
    {
      "cell_type": "code",
      "metadata": {
        "colab": {
          "base_uri": "https://localhost:8080/"
        },
        "id": "jANoXmH12Nx_",
        "outputId": "a54348c9-3bf2-4154-93e6-0a64c7e36ca9"
      },
      "source": [
        "!pip list | grep tensor"
      ],
      "execution_count": 98,
      "outputs": [
        {
          "output_type": "stream",
          "text": [
            "tensorboard                   2.4.1         \n",
            "tensorboard-plugin-wit        1.8.0         \n",
            "tensorflow                    2.4.1         \n",
            "tensorflow-datasets           4.0.1         \n",
            "tensorflow-estimator          2.4.0         \n",
            "tensorflow-gcs-config         2.4.0         \n",
            "tensorflow-hub                0.11.0        \n",
            "tensorflow-metadata           0.28.0        \n",
            "tensorflow-probability        0.12.1        \n"
          ],
          "name": "stdout"
        }
      ]
    },
    {
      "cell_type": "code",
      "metadata": {
        "colab": {
          "base_uri": "https://localhost:8080/"
        },
        "id": "brp8XawN3X1q",
        "outputId": "32ac5fa9-40ee-45c7-b26c-76a94c1f8d56"
      },
      "source": [
        "!pip list | grep torch"
      ],
      "execution_count": 99,
      "outputs": [
        {
          "output_type": "stream",
          "text": [
            "torch                         1.8.0+cu101   \n",
            "torchsummary                  1.5.1         \n",
            "torchtext                     0.9.0         \n",
            "torchvision                   0.9.0+cu101   \n"
          ],
          "name": "stdout"
        }
      ]
    },
    {
      "cell_type": "code",
      "metadata": {
        "colab": {
          "base_uri": "https://localhost:8080/"
        },
        "id": "kqbuwzzfJrsF",
        "outputId": "9fa4abb4-d68c-4b97-b851-d3bef1feb3d0"
      },
      "source": [
        "!pip3 install torch torchvision"
      ],
      "execution_count": 100,
      "outputs": [
        {
          "output_type": "stream",
          "text": [
            "Requirement already satisfied: torch in /usr/local/lib/python3.7/dist-packages (1.8.0+cu101)\n",
            "Requirement already satisfied: torchvision in /usr/local/lib/python3.7/dist-packages (0.9.0+cu101)\n",
            "Requirement already satisfied: numpy in /usr/local/lib/python3.7/dist-packages (from torch) (1.19.5)\n",
            "Requirement already satisfied: typing-extensions in /usr/local/lib/python3.7/dist-packages (from torch) (3.7.4.3)\n",
            "Requirement already satisfied: pillow>=4.1.1 in /usr/local/lib/python3.7/dist-packages (from torchvision) (7.0.0)\n"
          ],
          "name": "stdout"
        }
      ]
    },
    {
      "cell_type": "code",
      "metadata": {
        "id": "5N-9UtCXKPkP"
      },
      "source": [
        "import torch\n",
        "import torch.nn as nn\n",
        "import numpy as np"
      ],
      "execution_count": 101,
      "outputs": []
    },
    {
      "cell_type": "markdown",
      "metadata": {
        "id": "5-kse_nz3I83"
      },
      "source": [
        "1. Generate data:"
      ]
    },
    {
      "cell_type": "code",
      "metadata": {
        "colab": {
          "base_uri": "https://localhost:8080/"
        },
        "id": "DjmrBMJRVCq2",
        "outputId": "825bee92-e77c-4acc-ad4f-38c44063de42"
      },
      "source": [
        "# Make non-linear data, using 3 dimensional input data and 2 output neurons\n",
        "\n",
        "n_samples = 200\n",
        "d = 3\n",
        "\n",
        "x = torch.FloatTensor(n_samples, d).uniform_(-1,1)\n",
        "\n",
        "weights_true = torch.FloatTensor([[5, 1, 4],[2, 1, 2]]).T\n",
        "bias_true = torch.tensor([0.5, 0.25])\n",
        "\n",
        "# y = w_0 * x_0 + w_1 * x_1 + w_2 * x_2 + b\n",
        "y_true = torch.mm(x ** 2, weights_true) + torch.mm(x, weights_true) + bias_true\n",
        "print(f'x: {x.shape}, weights: {weights_true.shape}, bias: {bias_true.shape}, y: {y_true.shape}')\n",
        "#x: (200, 3), weights: (3, 2), bias: (2,), y: (200, 2)"
      ],
      "execution_count": 102,
      "outputs": [
        {
          "output_type": "stream",
          "text": [
            "x: torch.Size([200, 3]), weights: torch.Size([3, 2]), bias: torch.Size([2]), y: torch.Size([200, 2])\n"
          ],
          "name": "stdout"
        }
      ]
    },
    {
      "cell_type": "markdown",
      "metadata": {
        "id": "zatQjTbKP4FZ"
      },
      "source": [
        "2. Train the 3dim and 2output generated data using Pytorch"
      ]
    },
    {
      "cell_type": "code",
      "metadata": {
        "colab": {
          "base_uri": "https://localhost:8080/"
        },
        "id": "kcQcy-PlUegk",
        "outputId": "0602b691-c60a-4de5-cbbc-78a366b353d3"
      },
      "source": [
        "class TorchModel(nn.Module):\n",
        "  def __init__(self, input_dim, num_hidden):\n",
        "    super().__init__()\n",
        "    self.linear1 = nn.Linear(input_dim, num_hidden)\n",
        "    self.relu = nn.ReLU()\n",
        "    self.linear2 = nn.Linear(num_hidden, 1)\n",
        "  \n",
        "  def forward(self, x):\n",
        "    l1 = self.linear1(x)\n",
        "    r = self.relu(l1)\n",
        "    l2 = self.linear2(r)\n",
        "    return l2\n",
        "\n",
        "\n",
        "loss = nn.MSELoss()\n",
        "model = TorchModel(d, 10)\n",
        "x_tensor = torch.tensor(x).float()\n",
        "y_true_tensor = torch.tensor(y_true).float()\n",
        "y_pred_tensor = model(x_tensor)\n",
        "loss_value = loss(y_pred_tensor, y_true_tensor)\n",
        "print(loss_value)"
      ],
      "execution_count": 103,
      "outputs": [
        {
          "output_type": "stream",
          "text": [
            "tensor(19.8726, grad_fn=<MseLossBackward>)\n"
          ],
          "name": "stdout"
        },
        {
          "output_type": "stream",
          "text": [
            "/usr/local/lib/python3.7/dist-packages/ipykernel_launcher.py:17: UserWarning: To copy construct from a tensor, it is recommended to use sourceTensor.clone().detach() or sourceTensor.clone().detach().requires_grad_(True), rather than torch.tensor(sourceTensor).\n",
            "/usr/local/lib/python3.7/dist-packages/ipykernel_launcher.py:18: UserWarning: To copy construct from a tensor, it is recommended to use sourceTensor.clone().detach() or sourceTensor.clone().detach().requires_grad_(True), rather than torch.tensor(sourceTensor).\n",
            "/usr/local/lib/python3.7/dist-packages/torch/nn/modules/loss.py:528: UserWarning: Using a target size (torch.Size([200, 2])) that is different to the input size (torch.Size([200, 1])). This will likely lead to incorrect results due to broadcasting. Please ensure they have the same size.\n",
            "  return F.mse_loss(input, target, reduction=self.reduction)\n"
          ],
          "name": "stderr"
        }
      ]
    },
    {
      "cell_type": "markdown",
      "metadata": {
        "id": "UjJKpugFB-Vk"
      },
      "source": [
        "3. Test just one forward and backward step"
      ]
    },
    {
      "cell_type": "code",
      "metadata": {
        "colab": {
          "base_uri": "https://localhost:8080/"
        },
        "id": "uOt-jIvBcqR-",
        "outputId": "7bd0009d-c69c-4abf-8db5-1fc044001286"
      },
      "source": [
        "optimizer = torch.optim.SGD(model.parameters(), lr=0.1)\n",
        "\n",
        "optimizer.zero_grad()\n",
        "y_pred_tensor = model(x_tensor)\n",
        "loss_value = loss(y_pred_tensor, y_true_tensor)\n",
        "print(loss_value)\n",
        "loss_gradient = loss_value.backward()\n",
        "optimizer.step()\n",
        "\n",
        "y_pred_tensor = model(x_tensor)\n",
        "loss_value = loss(y_pred_tensor, y_true_tensor)\n",
        "print(loss_value)"
      ],
      "execution_count": 104,
      "outputs": [
        {
          "output_type": "stream",
          "text": [
            "tensor(19.8726, grad_fn=<MseLossBackward>)\n",
            "tensor(15.3963, grad_fn=<MseLossBackward>)\n"
          ],
          "name": "stdout"
        },
        {
          "output_type": "stream",
          "text": [
            "/usr/local/lib/python3.7/dist-packages/torch/nn/modules/loss.py:528: UserWarning: Using a target size (torch.Size([200, 2])) that is different to the input size (torch.Size([200, 1])). This will likely lead to incorrect results due to broadcasting. Please ensure they have the same size.\n",
            "  return F.mse_loss(input, target, reduction=self.reduction)\n"
          ],
          "name": "stderr"
        }
      ]
    },
    {
      "cell_type": "markdown",
      "metadata": {
        "id": "w_CPXR_OCCoK"
      },
      "source": [
        "4. Add ReLu function to learn the non-linear data, we need non-linearities in our model."
      ]
    },
    {
      "cell_type": "code",
      "metadata": {
        "colab": {
          "base_uri": "https://localhost:8080/"
        },
        "id": "7HvoRglddY5F",
        "outputId": "10e1588a-53a6-4b4a-aef5-decfb7e34f6b"
      },
      "source": [
        "# In order to learn non-linear functions, we need non-linearities in our model.\n",
        "\n",
        "class Relu:\n",
        "    def __call__(self, input_):\n",
        "        self.input_ = input_\n",
        "        self.output = np.clip(self.input_, 0, None)\n",
        "        return self.output\n",
        "    \n",
        "    def backward(self, output_gradient):\n",
        "      # import pdb; pdb.set_trace()  # By the way, this is how you can debug\n",
        "      self.input_gradient = (self.input_ > 0) * output_gradient\n",
        "      return self.input_gradient\n",
        "\n",
        "\n",
        "relu = Relu()\n",
        "input_ = np.expand_dims(np.array([1, 0.5, 0, -0.5, -1]), -1)\n",
        "print(relu(input_))\n",
        "print(relu.backward(input_))"
      ],
      "execution_count": 105,
      "outputs": [
        {
          "output_type": "stream",
          "text": [
            "[[1. ]\n",
            " [0.5]\n",
            " [0. ]\n",
            " [0. ]\n",
            " [0. ]]\n",
            "[[ 1. ]\n",
            " [ 0.5]\n",
            " [ 0. ]\n",
            " [-0. ]\n",
            " [-0. ]]\n"
          ],
          "name": "stdout"
        }
      ]
    },
    {
      "cell_type": "markdown",
      "metadata": {
        "id": "ZR_y4VwqCYG1"
      },
      "source": [
        "5. Fit the model and compute the cost function using Pytorch\n"
      ]
    },
    {
      "cell_type": "code",
      "metadata": {
        "colab": {
          "base_uri": "https://localhost:8080/"
        },
        "id": "I2_ihUlsc22d",
        "outputId": "b182988e-f0e4-4159-fc37-9dfdfb0a182f"
      },
      "source": [
        "# Now we run the training loop\n",
        "from typing import Callable\n",
        "\n",
        "def torch_fit(x: np.ndarray, y: np.ndarray, model: Callable, loss: Callable, lr: float, num_epochs: int):\n",
        "  optimizer = torch.optim.SGD(model.parameters(), lr=lr)\n",
        "  for epoch in range(num_epochs):\n",
        "    optimizer.zero_grad()\n",
        "    y_pred_tensor = model(x_tensor)\n",
        "    loss_value = loss(y_pred_tensor, y_true_tensor)\n",
        "    print(loss_value)\n",
        "    loss_value.backward()\n",
        "    optimizer.step()\n",
        "\n",
        "torch_fit(x_tensor, y_true_tensor, model=model, loss=loss, lr=0.1, num_epochs=40)"
      ],
      "execution_count": 106,
      "outputs": [
        {
          "output_type": "stream",
          "text": [
            "tensor(15.3963, grad_fn=<MseLossBackward>)\n",
            "tensor(12.6493, grad_fn=<MseLossBackward>)\n",
            "tensor(10.5233, grad_fn=<MseLossBackward>)\n",
            "tensor(8.7342, grad_fn=<MseLossBackward>)\n",
            "tensor(7.3042, grad_fn=<MseLossBackward>)\n",
            "tensor(6.2666, grad_fn=<MseLossBackward>)\n",
            "tensor(5.4877, grad_fn=<MseLossBackward>)\n",
            "tensor(4.8757, grad_fn=<MseLossBackward>)\n",
            "tensor(4.4041, grad_fn=<MseLossBackward>)\n",
            "tensor(4.0387, grad_fn=<MseLossBackward>)\n",
            "tensor(3.7553, grad_fn=<MseLossBackward>)\n",
            "tensor(3.5485, grad_fn=<MseLossBackward>)\n",
            "tensor(3.3941, grad_fn=<MseLossBackward>)\n",
            "tensor(3.2778, grad_fn=<MseLossBackward>)\n",
            "tensor(3.1911, grad_fn=<MseLossBackward>)\n",
            "tensor(3.1245, grad_fn=<MseLossBackward>)\n",
            "tensor(3.0717, grad_fn=<MseLossBackward>)\n",
            "tensor(3.0293, grad_fn=<MseLossBackward>)\n",
            "tensor(2.9928, grad_fn=<MseLossBackward>)\n",
            "tensor(2.9600, grad_fn=<MseLossBackward>)\n",
            "tensor(2.9278, grad_fn=<MseLossBackward>)\n",
            "tensor(2.8972, grad_fn=<MseLossBackward>)\n",
            "tensor(2.8681, grad_fn=<MseLossBackward>)\n",
            "tensor(2.8397, grad_fn=<MseLossBackward>)\n",
            "tensor(2.8108, grad_fn=<MseLossBackward>)\n",
            "tensor(2.7809, grad_fn=<MseLossBackward>)\n",
            "tensor(2.7515, grad_fn=<MseLossBackward>)\n",
            "tensor(2.7235, grad_fn=<MseLossBackward>)\n",
            "tensor(2.6971, grad_fn=<MseLossBackward>)\n",
            "tensor(2.6723, grad_fn=<MseLossBackward>)\n",
            "tensor(2.6477, grad_fn=<MseLossBackward>)\n",
            "tensor(2.6237, grad_fn=<MseLossBackward>)\n",
            "tensor(2.6011, grad_fn=<MseLossBackward>)\n",
            "tensor(2.5798, grad_fn=<MseLossBackward>)\n",
            "tensor(2.5599, grad_fn=<MseLossBackward>)\n",
            "tensor(2.5414, grad_fn=<MseLossBackward>)\n",
            "tensor(2.5240, grad_fn=<MseLossBackward>)\n",
            "tensor(2.5078, grad_fn=<MseLossBackward>)\n",
            "tensor(2.4929, grad_fn=<MseLossBackward>)\n",
            "tensor(2.4791, grad_fn=<MseLossBackward>)\n"
          ],
          "name": "stdout"
        },
        {
          "output_type": "stream",
          "text": [
            "/usr/local/lib/python3.7/dist-packages/torch/nn/modules/loss.py:528: UserWarning: Using a target size (torch.Size([200, 2])) that is different to the input size (torch.Size([200, 1])). This will likely lead to incorrect results due to broadcasting. Please ensure they have the same size.\n",
            "  return F.mse_loss(input, target, reduction=self.reduction)\n"
          ],
          "name": "stderr"
        }
      ]
    },
    {
      "cell_type": "markdown",
      "metadata": {
        "id": "qqA7apTVC-Bt"
      },
      "source": [
        "6. Plot the output post training as well as the real data  using tsne. Result: Similar plots but different values"
      ]
    },
    {
      "cell_type": "code",
      "metadata": {
        "id": "aHINaJBWeCfB"
      },
      "source": [
        "import matplotlib.pyplot as plt\n",
        "from sklearn.manifold import TSNE\n",
        "\n",
        "view = TSNE(n_components=2, perplexity=50,learning_rate=200,random_state=123).fit_transform(x, y_pred_tensor)\n",
        "view.shape\n",
        "\n",
        "def plot_tsne(x, y_true_tensor, y_pred_tensor):\n",
        "  plt.figure(figsize=(10,5))\n",
        "  plt.scatter(view[:,0], view[:,0], alpha=0.5, label='underlying function')\n",
        "  if y_true is not None:\n",
        "    plt.scatter(view[:, 1], view[:, 1], label='our function')\n",
        "  plt.xlabel('t-SNE-1')\n",
        "  plt.ylabel('t-SNE-2')\n",
        "  plt.legend()"
      ],
      "execution_count": 109,
      "outputs": []
    },
    {
      "cell_type": "code",
      "metadata": {
        "colab": {
          "base_uri": "https://localhost:8080/",
          "height": 334
        },
        "id": "f10Zjgb-eAAo",
        "outputId": "e3fd55f0-ce85-44b4-a430-25af6f94b37b"
      },
      "source": [
        "plot_tsne(x, y_true_tensor, model(x_tensor))"
      ],
      "execution_count": 110,
      "outputs": [
        {
          "output_type": "display_data",
          "data": {
            "image/png": "[encoded data removed]",
            "text/plain": [
              "<Figure size 720x360 with 1 Axes>"
            ]
          },
          "metadata": {
            "tags": [],
            "needs_background": "light"
          }
        }
      ]
    }
  ]
}