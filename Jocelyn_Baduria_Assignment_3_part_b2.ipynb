{
  "nbformat": 4,
  "nbformat_minor": 0,
  "metadata": {
    "colab": {
      "name": "Jocelyn_Baduria_Assignment 3_part_b2.ipynb",
      "provenance": [],
      "collapsed_sections": [],
      "authorship_tag": "ABX9TyNN6iBkFv0Ge4sAhSZbx9cQ",
      "include_colab_link": true
    },
    "kernelspec": {
      "name": "python3",
      "display_name": "Python 3"
    },
    "language_info": {
      "name": "python"
    }
  },
  "cells": [
    {
      "cell_type": "markdown",
      "metadata": {
        "id": "view-in-github",
        "colab_type": "text"
      },
      "source": [
        "<a href=\"https://colab.research.google.com/github/jocelynbaduria/Assignment-3-_part_a_b_c.ipynb/blob/main/Jocelyn_Baduria_Assignment_3_part_b2.ipynb\" target=\"_parent\"><img src=\"https://colab.research.google.com/assets/colab-badge.svg\" alt=\"Open In Colab\"/></a>"
      ]
    },
    {
      "cell_type": "markdown",
      "metadata": {
        "id": "RyrBJ2DE21Yv"
      },
      "source": [
        "# B2. Pytorch\n",
        "With auto differentiation primitive"
      ]
    },
    {
      "cell_type": "code",
      "metadata": {
        "colab": {
          "base_uri": "https://localhost:8080/"
        },
        "id": "jANoXmH12Nx_",
        "outputId": "43ce9d03-46f7-40fb-b3e7-2ee17fd01ea1"
      },
      "source": [
        "!pip list | grep tensor"
      ],
      "execution_count": 10,
      "outputs": [
        {
          "output_type": "stream",
          "text": [
            "tensorboard                   2.4.1         \n",
            "tensorboard-plugin-wit        1.8.0         \n",
            "tensorflow                    2.4.1         \n",
            "tensorflow-datasets           4.0.1         \n",
            "tensorflow-estimator          2.4.0         \n",
            "tensorflow-gcs-config         2.4.0         \n",
            "tensorflow-hub                0.11.0        \n",
            "tensorflow-metadata           0.28.0        \n",
            "tensorflow-probability        0.12.1        \n"
          ],
          "name": "stdout"
        }
      ]
    },
    {
      "cell_type": "code",
      "metadata": {
        "colab": {
          "base_uri": "https://localhost:8080/"
        },
        "id": "brp8XawN3X1q",
        "outputId": "f14919af-caf9-4caf-c3b4-372c5edd6cfb"
      },
      "source": [
        "!pip list | grep torch"
      ],
      "execution_count": 11,
      "outputs": [
        {
          "output_type": "stream",
          "text": [
            "torch                         1.8.0+cu101   \n",
            "torchsummary                  1.5.1         \n",
            "torchtext                     0.9.0         \n",
            "torchvision                   0.9.0+cu101   \n"
          ],
          "name": "stdout"
        }
      ]
    },
    {
      "cell_type": "code",
      "metadata": {
        "colab": {
          "base_uri": "https://localhost:8080/"
        },
        "id": "kqbuwzzfJrsF",
        "outputId": "0ad9bdb8-ac9c-495c-f58e-df9ce0ab9a68"
      },
      "source": [
        "!pip3 install torch torchvision"
      ],
      "execution_count": 12,
      "outputs": [
        {
          "output_type": "stream",
          "text": [
            "Requirement already satisfied: torch in /usr/local/lib/python3.7/dist-packages (1.8.0+cu101)\n",
            "Requirement already satisfied: torchvision in /usr/local/lib/python3.7/dist-packages (0.9.0+cu101)\n",
            "Requirement already satisfied: typing-extensions in /usr/local/lib/python3.7/dist-packages (from torch) (3.7.4.3)\n",
            "Requirement already satisfied: numpy in /usr/local/lib/python3.7/dist-packages (from torch) (1.19.5)\n",
            "Requirement already satisfied: pillow>=4.1.1 in /usr/local/lib/python3.7/dist-packages (from torchvision) (7.0.0)\n"
          ],
          "name": "stdout"
        }
      ]
    },
    {
      "cell_type": "code",
      "metadata": {
        "id": "5N-9UtCXKPkP"
      },
      "source": [
        "import torch\n",
        "import torch.nn as nn\n",
        "import numpy as np"
      ],
      "execution_count": 13,
      "outputs": []
    },
    {
      "cell_type": "markdown",
      "metadata": {
        "id": "5-kse_nz3I83"
      },
      "source": [
        "1. Generate data:"
      ]
    },
    {
      "cell_type": "code",
      "metadata": {
        "colab": {
          "base_uri": "https://localhost:8080/"
        },
        "id": "DjmrBMJRVCq2",
        "outputId": "ab663c66-63b6-4fe0-80bd-c4d1b94bc0bd"
      },
      "source": [
        "# Make non-linear data, using 3 dimensional input data and 2 output neurons\n",
        "\n",
        "n_samples = 200\n",
        "d = 3\n",
        "\n",
        "x = torch.FloatTensor(n_samples, d).uniform_(-1,1)\n",
        "\n",
        "weights_true = torch.FloatTensor([[5, 1, 4],[2, 1, 2]]).T\n",
        "bias_true = torch.tensor([0.5, 0.25])\n",
        "\n",
        "# y = w_0 * x_0 + w_1 * x_1 + w_2 * x_2 + b\n",
        "y_true = torch.mm(x ** 2, weights_true) + torch.mm(x, weights_true) + bias_true\n",
        "print(f'x: {x.shape}, weights: {weights_true.shape}, bias: {bias_true.shape}, y: {y_true.shape}')\n",
        "#x: (200, 3), weights: (3, 2), bias: (2,), y: (200, 2)"
      ],
      "execution_count": 14,
      "outputs": [
        {
          "output_type": "stream",
          "text": [
            "x: torch.Size([200, 3]), weights: torch.Size([3, 2]), bias: torch.Size([2]), y: torch.Size([200, 2])\n"
          ],
          "name": "stdout"
        }
      ]
    },
    {
      "cell_type": "markdown",
      "metadata": {
        "id": "w_CPXR_OCCoK"
      },
      "source": [
        "2. Add ReLu function to learn the non-linear data, we need non-linearities in our model."
      ]
    },
    {
      "cell_type": "code",
      "metadata": {
        "colab": {
          "base_uri": "https://localhost:8080/"
        },
        "id": "7HvoRglddY5F",
        "outputId": "35dbccb0-fa09-4593-bcc0-27b6962bd67a"
      },
      "source": [
        "# In order to learn non-linear functions, we need non-linearities in our model.\n",
        "\n",
        "class Relu:\n",
        "    def __call__(self, input_):\n",
        "        self.input_ = input_\n",
        "        self.output = np.clip(self.input_, 0, None)\n",
        "        return self.output\n",
        "    \n",
        "    def backward(self, output_gradient):\n",
        "      # import pdb; pdb.set_trace()  # By the way, this is how you can debug\n",
        "      self.input_gradient = (self.input_ > 0) * output_gradient\n",
        "      return self.input_gradient\n",
        "\n",
        "\n",
        "relu = Relu()\n",
        "input_ = np.expand_dims(np.array([1, 0.5, 0, -0.5, -1]), -1)\n",
        "print(relu(input_))\n",
        "print(relu.backward(input_))"
      ],
      "execution_count": 15,
      "outputs": [
        {
          "output_type": "stream",
          "text": [
            "[[1. ]\n",
            " [0.5]\n",
            " [0. ]\n",
            " [0. ]\n",
            " [0. ]]\n",
            "[[ 1. ]\n",
            " [ 0.5]\n",
            " [ 0. ]\n",
            " [-0. ]\n",
            " [-0. ]]\n"
          ],
          "name": "stdout"
        }
      ]
    },
    {
      "cell_type": "markdown",
      "metadata": {
        "id": "zatQjTbKP4FZ"
      },
      "source": [
        "3. Train the 3dim and 2output generated data using Pytorch"
      ]
    },
    {
      "cell_type": "code",
      "metadata": {
        "colab": {
          "base_uri": "https://localhost:8080/"
        },
        "id": "kcQcy-PlUegk",
        "outputId": "9b102fae-47c3-49fc-d204-f23447e0fc05"
      },
      "source": [
        "class TorchModel(nn.Module):\n",
        "  def __init__(self, input_dim, num_hidden, output_dimension):\n",
        "    super().__init__()\n",
        "    self.linear1 = nn.Linear(input_dim, num_hidden)\n",
        "    self.relu1 = nn.ReLU()\n",
        "    self.relu2 = nn.ReLU()\n",
        "    self.linear2 = nn.Linear(num_hidden, output_dimension)\n",
        "  \n",
        "  def forward(self, x):\n",
        "    l1 = self.linear1(x)\n",
        "    r1 = self.relu1(l1)\n",
        "    r2 = self.relu2(r1)\n",
        "    l2 = self.linear2(r2)\n",
        "    return l2\n",
        "\n",
        "loss = nn.MSELoss()\n",
        "model = TorchModel(3, 10, 2)\n",
        "x_tensor = torch.tensor(x).float()\n",
        "y_true_tensor = torch.tensor(y_true).float()\n",
        "y_pred_tensor = model(x_tensor)\n",
        "loss_value = loss(y_pred_tensor, y_true_tensor)\n",
        "print(loss_value)"
      ],
      "execution_count": 16,
      "outputs": [
        {
          "output_type": "stream",
          "text": [
            "tensor(20.2277, grad_fn=<MseLossBackward>)\n"
          ],
          "name": "stdout"
        },
        {
          "output_type": "stream",
          "text": [
            "/usr/local/lib/python3.7/dist-packages/ipykernel_launcher.py:18: UserWarning: To copy construct from a tensor, it is recommended to use sourceTensor.clone().detach() or sourceTensor.clone().detach().requires_grad_(True), rather than torch.tensor(sourceTensor).\n",
            "/usr/local/lib/python3.7/dist-packages/ipykernel_launcher.py:19: UserWarning: To copy construct from a tensor, it is recommended to use sourceTensor.clone().detach() or sourceTensor.clone().detach().requires_grad_(True), rather than torch.tensor(sourceTensor).\n"
          ],
          "name": "stderr"
        }
      ]
    },
    {
      "cell_type": "markdown",
      "metadata": {
        "id": "UjJKpugFB-Vk"
      },
      "source": [
        "4. Test just one forward and backward step"
      ]
    },
    {
      "cell_type": "code",
      "metadata": {
        "colab": {
          "base_uri": "https://localhost:8080/"
        },
        "id": "uOt-jIvBcqR-",
        "outputId": "be4703e0-bf3d-4e16-c64f-67cd5e3cbdcf"
      },
      "source": [
        "optimizer = torch.optim.SGD(model.parameters(), lr=0.1)\n",
        "\n",
        "optimizer.zero_grad()\n",
        "y_pred_tensor = model(x_tensor)\n",
        "loss_value = loss(y_pred_tensor, y_true_tensor)\n",
        "print(loss_value)\n",
        "loss_gradient = loss_value.backward()\n",
        "optimizer.step()\n",
        "\n",
        "y_pred_tensor = model(x_tensor)\n",
        "loss_value = loss(y_pred_tensor, y_true_tensor)\n",
        "print(loss_value)"
      ],
      "execution_count": 17,
      "outputs": [
        {
          "output_type": "stream",
          "text": [
            "tensor(20.2277, grad_fn=<MseLossBackward>)\n",
            "tensor(16.9124, grad_fn=<MseLossBackward>)\n"
          ],
          "name": "stdout"
        }
      ]
    },
    {
      "cell_type": "markdown",
      "metadata": {
        "id": "ZR_y4VwqCYG1"
      },
      "source": [
        "5. Fit the model and compute the cost function using Pytorch\n"
      ]
    },
    {
      "cell_type": "code",
      "metadata": {
        "colab": {
          "base_uri": "https://localhost:8080/"
        },
        "id": "I2_ihUlsc22d",
        "outputId": "7588c3ef-3527-4b13-97c8-56642438f2b0"
      },
      "source": [
        "# Now we run the training loop\n",
        "from typing import Callable\n",
        "\n",
        "def torch_fit(x: np.ndarray, y: np.ndarray, model: Callable, loss: Callable, lr: float, num_epochs: int):\n",
        "  optimizer = torch.optim.SGD(model.parameters(), lr=lr)\n",
        "  for epoch in range(num_epochs):\n",
        "    optimizer.zero_grad()\n",
        "    y_pred_tensor = model(x_tensor)\n",
        "    loss_value = loss(y_pred_tensor, y_true_tensor)\n",
        "    print(loss_value)\n",
        "    loss_value.backward()\n",
        "    optimizer.step()\n",
        "\n",
        "torch_fit(x_tensor, y_true_tensor, model=model, loss=loss, lr=0.1, num_epochs=40)"
      ],
      "execution_count": 18,
      "outputs": [
        {
          "output_type": "stream",
          "text": [
            "tensor(16.9124, grad_fn=<MseLossBackward>)\n",
            "tensor(14.5254, grad_fn=<MseLossBackward>)\n",
            "tensor(12.1864, grad_fn=<MseLossBackward>)\n",
            "tensor(9.7083, grad_fn=<MseLossBackward>)\n",
            "tensor(7.3276, grad_fn=<MseLossBackward>)\n",
            "tensor(5.5076, grad_fn=<MseLossBackward>)\n",
            "tensor(4.3967, grad_fn=<MseLossBackward>)\n",
            "tensor(3.7190, grad_fn=<MseLossBackward>)\n",
            "tensor(3.2335, grad_fn=<MseLossBackward>)\n",
            "tensor(2.8772, grad_fn=<MseLossBackward>)\n",
            "tensor(2.6276, grad_fn=<MseLossBackward>)\n",
            "tensor(2.4433, grad_fn=<MseLossBackward>)\n",
            "tensor(2.3049, grad_fn=<MseLossBackward>)\n",
            "tensor(2.1947, grad_fn=<MseLossBackward>)\n",
            "tensor(2.1037, grad_fn=<MseLossBackward>)\n",
            "tensor(2.0326, grad_fn=<MseLossBackward>)\n",
            "tensor(1.9738, grad_fn=<MseLossBackward>)\n",
            "tensor(1.9272, grad_fn=<MseLossBackward>)\n",
            "tensor(1.8892, grad_fn=<MseLossBackward>)\n",
            "tensor(1.8577, grad_fn=<MseLossBackward>)\n",
            "tensor(1.8329, grad_fn=<MseLossBackward>)\n",
            "tensor(1.8130, grad_fn=<MseLossBackward>)\n",
            "tensor(1.7960, grad_fn=<MseLossBackward>)\n",
            "tensor(1.7814, grad_fn=<MseLossBackward>)\n",
            "tensor(1.7682, grad_fn=<MseLossBackward>)\n",
            "tensor(1.7563, grad_fn=<MseLossBackward>)\n",
            "tensor(1.7454, grad_fn=<MseLossBackward>)\n",
            "tensor(1.7350, grad_fn=<MseLossBackward>)\n",
            "tensor(1.7250, grad_fn=<MseLossBackward>)\n",
            "tensor(1.7156, grad_fn=<MseLossBackward>)\n",
            "tensor(1.7064, grad_fn=<MseLossBackward>)\n",
            "tensor(1.6975, grad_fn=<MseLossBackward>)\n",
            "tensor(1.6890, grad_fn=<MseLossBackward>)\n",
            "tensor(1.6804, grad_fn=<MseLossBackward>)\n",
            "tensor(1.6710, grad_fn=<MseLossBackward>)\n",
            "tensor(1.6622, grad_fn=<MseLossBackward>)\n",
            "tensor(1.6539, grad_fn=<MseLossBackward>)\n",
            "tensor(1.6457, grad_fn=<MseLossBackward>)\n",
            "tensor(1.6376, grad_fn=<MseLossBackward>)\n",
            "tensor(1.6302, grad_fn=<MseLossBackward>)\n"
          ],
          "name": "stdout"
        }
      ]
    },
    {
      "cell_type": "markdown",
      "metadata": {
        "id": "qqA7apTVC-Bt"
      },
      "source": [
        "6. Plot the output post training as well as the real data  using tsne. Result: Similar plots but different values"
      ]
    },
    {
      "cell_type": "code",
      "metadata": {
        "id": "aHINaJBWeCfB"
      },
      "source": [
        "import matplotlib.pyplot as plt\n",
        "from sklearn.manifold import TSNE\n",
        "\n",
        "view = TSNE(n_components=2, perplexity=50,learning_rate=200,random_state=123).fit_transform(x, y_pred_tensor)\n",
        "view.shape\n",
        "\n",
        "def plot_tsne(x, y_true_tensor, y_pred_tensor):\n",
        "  plt.figure(figsize=(10,5))\n",
        "  plt.scatter(view[:,0], view[:,0], alpha=0.5, label='underlying function')\n",
        "  if y_true is not None:\n",
        "    plt.scatter(view[:, 1], view[:, 1], label='our function')\n",
        "  plt.xlabel('t-SNE-1')\n",
        "  plt.ylabel('t-SNE-2')\n",
        "  plt.legend()"
      ],
      "execution_count": 19,
      "outputs": []
    },
    {
      "cell_type": "code",
      "metadata": {
        "colab": {
          "base_uri": "https://localhost:8080/",
          "height": 334
        },
        "id": "f10Zjgb-eAAo",
        "outputId": "b534f3f5-bdc8-451e-ab84-fed9fd18ff8a"
      },
      "source": [
        "plot_tsne(x, y_true_tensor, model(x_tensor))"
      ],
      "execution_count": 20,
      "outputs": [
        {
          "output_type": "display_data",
          "data": {
            "image/png": "[encoded data removed]",
            "text/plain": [
              "<Figure size 720x360 with 1 Axes>"
            ]
          },
          "metadata": {
            "tags": [],
            "needs_background": "light"
          }
        }
      ]
    }
  ]
}